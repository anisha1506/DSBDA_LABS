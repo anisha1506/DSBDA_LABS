{
 "cells": [
  {
   "cell_type": "markdown",
   "id": "547fdf09-dcbf-4774-a265-57e8f594a091",
   "metadata": {},
   "source": [
    "# 1.How can we load the dataset from a CSV file into a Pandas DataFrame?"
   ]
  },
  {
   "cell_type": "code",
   "execution_count": 15,
   "id": "ba3374eb-5e93-49a8-991a-f22ad5efecc7",
   "metadata": {},
   "outputs": [],
   "source": [
    "import pandas as pd"
   ]
  },
  {
   "cell_type": "code",
   "execution_count": 16,
   "id": "bfec27ad-a00d-49bc-ae0a-60bcad13d19a",
   "metadata": {},
   "outputs": [],
   "source": [
    "df=pd.read_csv(\"Employee_Salaries.csv\")"
   ]
  },
  {
   "cell_type": "markdown",
   "id": "4b41b20b-ec5b-401d-990f-dbb177a4919c",
   "metadata": {},
   "source": [
    "# 2. What is the dimension (number of rows and columns) of the dataset? What are the data types of the variables?"
   ]
  },
  {
   "cell_type": "code",
   "execution_count": 18,
   "id": "a9ff654f-8bcc-4416-ada3-13faa2249bb4",
   "metadata": {},
   "outputs": [
    {
     "data": {
      "text/plain": [
       "(10291, 8)"
      ]
     },
     "execution_count": 18,
     "metadata": {},
     "output_type": "execute_result"
    }
   ],
   "source": [
    "df.shape"
   ]
  },
  {
   "cell_type": "code",
   "execution_count": 19,
   "id": "a085337e-5ea1-4875-9167-cf0936e783a0",
   "metadata": {},
   "outputs": [
    {
     "name": "stdout",
     "output_type": "stream",
     "text": [
      "<class 'pandas.core.frame.DataFrame'>\n",
      "RangeIndex: 10291 entries, 0 to 10290\n",
      "Data columns (total 8 columns):\n",
      " #   Column           Non-Null Count  Dtype  \n",
      "---  ------           --------------  -----  \n",
      " 0   Department       10291 non-null  object \n",
      " 1   Department_Name  10291 non-null  object \n",
      " 2   Division         10291 non-null  object \n",
      " 3   Gender           10291 non-null  object \n",
      " 4   Base_Salary      10291 non-null  float64\n",
      " 5   Overtime_Pay     10291 non-null  float64\n",
      " 6   Longevity_Pay    10291 non-null  float64\n",
      " 7   Grade            10258 non-null  object \n",
      "dtypes: float64(3), object(5)\n",
      "memory usage: 643.3+ KB\n"
     ]
    }
   ],
   "source": [
    "df.info()"
   ]
  },
  {
   "cell_type": "markdown",
   "id": "05a2a4a8-851a-4837-9e1a-ea88813c394c",
   "metadata": {},
   "source": [
    "# 3.How can we identify missing values in the dataset and summarize it using describe()?"
   ]
  },
  {
   "cell_type": "code",
   "execution_count": 21,
   "id": "42733e37-76ae-4379-9911-042286bb06b4",
   "metadata": {},
   "outputs": [
    {
     "data": {
      "text/html": [
       "<div>\n",
       "<style scoped>\n",
       "    .dataframe tbody tr th:only-of-type {\n",
       "        vertical-align: middle;\n",
       "    }\n",
       "\n",
       "    .dataframe tbody tr th {\n",
       "        vertical-align: top;\n",
       "    }\n",
       "\n",
       "    .dataframe thead th {\n",
       "        text-align: right;\n",
       "    }\n",
       "</style>\n",
       "<table border=\"1\" class=\"dataframe\">\n",
       "  <thead>\n",
       "    <tr style=\"text-align: right;\">\n",
       "      <th></th>\n",
       "      <th>Department</th>\n",
       "      <th>Department_Name</th>\n",
       "      <th>Division</th>\n",
       "      <th>Gender</th>\n",
       "      <th>Base_Salary</th>\n",
       "      <th>Overtime_Pay</th>\n",
       "      <th>Longevity_Pay</th>\n",
       "      <th>Grade</th>\n",
       "    </tr>\n",
       "  </thead>\n",
       "  <tbody>\n",
       "    <tr>\n",
       "      <th>0</th>\n",
       "      <td>False</td>\n",
       "      <td>False</td>\n",
       "      <td>False</td>\n",
       "      <td>False</td>\n",
       "      <td>False</td>\n",
       "      <td>False</td>\n",
       "      <td>False</td>\n",
       "      <td>False</td>\n",
       "    </tr>\n",
       "    <tr>\n",
       "      <th>1</th>\n",
       "      <td>False</td>\n",
       "      <td>False</td>\n",
       "      <td>False</td>\n",
       "      <td>False</td>\n",
       "      <td>False</td>\n",
       "      <td>False</td>\n",
       "      <td>False</td>\n",
       "      <td>False</td>\n",
       "    </tr>\n",
       "    <tr>\n",
       "      <th>2</th>\n",
       "      <td>False</td>\n",
       "      <td>False</td>\n",
       "      <td>False</td>\n",
       "      <td>False</td>\n",
       "      <td>False</td>\n",
       "      <td>False</td>\n",
       "      <td>False</td>\n",
       "      <td>False</td>\n",
       "    </tr>\n",
       "    <tr>\n",
       "      <th>3</th>\n",
       "      <td>False</td>\n",
       "      <td>False</td>\n",
       "      <td>False</td>\n",
       "      <td>False</td>\n",
       "      <td>False</td>\n",
       "      <td>False</td>\n",
       "      <td>False</td>\n",
       "      <td>False</td>\n",
       "    </tr>\n",
       "    <tr>\n",
       "      <th>4</th>\n",
       "      <td>False</td>\n",
       "      <td>False</td>\n",
       "      <td>False</td>\n",
       "      <td>False</td>\n",
       "      <td>False</td>\n",
       "      <td>False</td>\n",
       "      <td>False</td>\n",
       "      <td>False</td>\n",
       "    </tr>\n",
       "    <tr>\n",
       "      <th>...</th>\n",
       "      <td>...</td>\n",
       "      <td>...</td>\n",
       "      <td>...</td>\n",
       "      <td>...</td>\n",
       "      <td>...</td>\n",
       "      <td>...</td>\n",
       "      <td>...</td>\n",
       "      <td>...</td>\n",
       "    </tr>\n",
       "    <tr>\n",
       "      <th>10286</th>\n",
       "      <td>False</td>\n",
       "      <td>False</td>\n",
       "      <td>False</td>\n",
       "      <td>False</td>\n",
       "      <td>False</td>\n",
       "      <td>False</td>\n",
       "      <td>False</td>\n",
       "      <td>False</td>\n",
       "    </tr>\n",
       "    <tr>\n",
       "      <th>10287</th>\n",
       "      <td>False</td>\n",
       "      <td>False</td>\n",
       "      <td>False</td>\n",
       "      <td>False</td>\n",
       "      <td>False</td>\n",
       "      <td>False</td>\n",
       "      <td>False</td>\n",
       "      <td>True</td>\n",
       "    </tr>\n",
       "    <tr>\n",
       "      <th>10288</th>\n",
       "      <td>False</td>\n",
       "      <td>False</td>\n",
       "      <td>False</td>\n",
       "      <td>False</td>\n",
       "      <td>False</td>\n",
       "      <td>False</td>\n",
       "      <td>False</td>\n",
       "      <td>False</td>\n",
       "    </tr>\n",
       "    <tr>\n",
       "      <th>10289</th>\n",
       "      <td>False</td>\n",
       "      <td>False</td>\n",
       "      <td>False</td>\n",
       "      <td>False</td>\n",
       "      <td>False</td>\n",
       "      <td>False</td>\n",
       "      <td>False</td>\n",
       "      <td>False</td>\n",
       "    </tr>\n",
       "    <tr>\n",
       "      <th>10290</th>\n",
       "      <td>False</td>\n",
       "      <td>False</td>\n",
       "      <td>False</td>\n",
       "      <td>False</td>\n",
       "      <td>False</td>\n",
       "      <td>False</td>\n",
       "      <td>False</td>\n",
       "      <td>False</td>\n",
       "    </tr>\n",
       "  </tbody>\n",
       "</table>\n",
       "<p>10291 rows × 8 columns</p>\n",
       "</div>"
      ],
      "text/plain": [
       "       Department  Department_Name  Division  Gender  Base_Salary  \\\n",
       "0           False            False     False   False        False   \n",
       "1           False            False     False   False        False   \n",
       "2           False            False     False   False        False   \n",
       "3           False            False     False   False        False   \n",
       "4           False            False     False   False        False   \n",
       "...           ...              ...       ...     ...          ...   \n",
       "10286       False            False     False   False        False   \n",
       "10287       False            False     False   False        False   \n",
       "10288       False            False     False   False        False   \n",
       "10289       False            False     False   False        False   \n",
       "10290       False            False     False   False        False   \n",
       "\n",
       "       Overtime_Pay  Longevity_Pay  Grade  \n",
       "0             False          False  False  \n",
       "1             False          False  False  \n",
       "2             False          False  False  \n",
       "3             False          False  False  \n",
       "4             False          False  False  \n",
       "...             ...            ...    ...  \n",
       "10286         False          False  False  \n",
       "10287         False          False   True  \n",
       "10288         False          False  False  \n",
       "10289         False          False  False  \n",
       "10290         False          False  False  \n",
       "\n",
       "[10291 rows x 8 columns]"
      ]
     },
     "execution_count": 21,
     "metadata": {},
     "output_type": "execute_result"
    }
   ],
   "source": [
    "df.isnull()"
   ]
  },
  {
   "cell_type": "code",
   "execution_count": 22,
   "id": "777d70df-c960-48bf-b5eb-966aa2aec78c",
   "metadata": {},
   "outputs": [
    {
     "data": {
      "text/plain": [
       "Department          0\n",
       "Department_Name     0\n",
       "Division            0\n",
       "Gender              0\n",
       "Base_Salary         0\n",
       "Overtime_Pay        0\n",
       "Longevity_Pay       0\n",
       "Grade              33\n",
       "dtype: int64"
      ]
     },
     "execution_count": 22,
     "metadata": {},
     "output_type": "execute_result"
    }
   ],
   "source": [
    "df.isnull().sum()"
   ]
  },
  {
   "cell_type": "code",
   "execution_count": 23,
   "id": "5712ba9c-bbe6-4fee-9123-a8c395b5a96f",
   "metadata": {},
   "outputs": [
    {
     "name": "stdout",
     "output_type": "stream",
     "text": [
      "       Department                          Department_Name  \\\n",
      "count       10291                                    10291   \n",
      "unique         42                                       42   \n",
      "top           HHS  Department of Health and Human Services   \n",
      "freq         1877                                     1877   \n",
      "mean          NaN                                      NaN   \n",
      "std           NaN                                      NaN   \n",
      "min           NaN                                      NaN   \n",
      "25%           NaN                                      NaN   \n",
      "50%           NaN                                      NaN   \n",
      "75%           NaN                                      NaN   \n",
      "max           NaN                                      NaN   \n",
      "\n",
      "                             Division Gender    Base_Salary   Overtime_Pay  \\\n",
      "count                           10291  10291   10291.000000   10291.000000   \n",
      "unique                            627      2            NaN            NaN   \n",
      "top     HHS 60 School Health Services      M            NaN            NaN   \n",
      "freq                              399   5929            NaN            NaN   \n",
      "mean                              NaN    NaN   90312.165744    8081.288954   \n",
      "std                               NaN    NaN   31240.842929   16491.833017   \n",
      "min                               NaN    NaN   11147.240000       0.000000   \n",
      "25%                               NaN    NaN   70023.000000       0.000000   \n",
      "50%                               NaN    NaN   87328.000000     258.420000   \n",
      "75%                               NaN    NaN  108084.000000    9190.970000   \n",
      "max                               NaN    NaN  292000.000000  227428.990000   \n",
      "\n",
      "        Longevity_Pay  Grade  \n",
      "count    10291.000000  10258  \n",
      "unique            NaN     98  \n",
      "top               NaN     T1  \n",
      "freq              NaN    687  \n",
      "mean      1533.882816    NaN  \n",
      "std       3209.041070    NaN  \n",
      "min          0.000000    NaN  \n",
      "25%          0.000000    NaN  \n",
      "50%          0.000000    NaN  \n",
      "75%       1225.680000    NaN  \n",
      "max      20279.460000    NaN  \n"
     ]
    }
   ],
   "source": [
    "print(df.describe(include='all'))"
   ]
  },
  {
   "cell_type": "markdown",
   "id": "35382a3b-495f-4583-b3be-490019a863ef",
   "metadata": {},
   "source": [
    "# 4.Are there any missing values in the dataset? How can we handle them using Pandas?"
   ]
  },
  {
   "cell_type": "code",
   "execution_count": 25,
   "id": "a6bd16f0-6d5d-4356-902d-67e9792d6b7f",
   "metadata": {},
   "outputs": [
    {
     "data": {
      "text/plain": [
       "Department          0\n",
       "Department_Name     0\n",
       "Division            0\n",
       "Gender              0\n",
       "Base_Salary         0\n",
       "Overtime_Pay        0\n",
       "Longevity_Pay       0\n",
       "Grade              33\n",
       "dtype: int64"
      ]
     },
     "execution_count": 25,
     "metadata": {},
     "output_type": "execute_result"
    }
   ],
   "source": [
    "df.isnull().sum()"
   ]
  },
  {
   "cell_type": "code",
   "execution_count": 26,
   "id": "a5f85d06-f34f-4997-b4d5-4ecb13cde4b2",
   "metadata": {},
   "outputs": [],
   "source": [
    "df2=df.copy()"
   ]
  },
  {
   "cell_type": "code",
   "execution_count": 27,
   "id": "528a3f3c-8c76-42b9-8080-9d8e40fa55a1",
   "metadata": {},
   "outputs": [
    {
     "data": {
      "text/plain": [
       "Department         0\n",
       "Department_Name    0\n",
       "Division           0\n",
       "Gender             0\n",
       "Base_Salary        0\n",
       "Overtime_Pay       0\n",
       "Longevity_Pay      0\n",
       "Grade              0\n",
       "dtype: int64"
      ]
     },
     "execution_count": 27,
     "metadata": {},
     "output_type": "execute_result"
    }
   ],
   "source": [
    "for col in df2.columns:\n",
    "    if df2[col].isnull().any():\n",
    "        df2[col]=df2[col].ffill()\n",
    "df2.isnull().sum()\n"
   ]
  },
  {
   "cell_type": "markdown",
   "id": "e7e77c26-5a0a-4059-bc28-4dfe825de804",
   "metadata": {},
   "source": [
    "# 5.Are there duplicate employee records, and how can we remove them?"
   ]
  },
  {
   "cell_type": "code",
   "execution_count": 29,
   "id": "46fba00b-64a6-48e1-956b-3035f72b5a70",
   "metadata": {},
   "outputs": [
    {
     "name": "stdout",
     "output_type": "stream",
     "text": [
      "Duplicate Records: 617\n"
     ]
    }
   ],
   "source": [
    "duplicates = df.duplicated().sum()\n",
    "print(\"Duplicate Records:\", duplicates)"
   ]
  },
  {
   "cell_type": "code",
   "execution_count": 30,
   "id": "802e109d-e6d2-461b-b968-0a7de2ac6f66",
   "metadata": {},
   "outputs": [],
   "source": [
    "df = df.drop_duplicates()"
   ]
  },
  {
   "cell_type": "code",
   "execution_count": 31,
   "id": "5fb6a91f-5783-4d68-a63f-78325151f702",
   "metadata": {},
   "outputs": [
    {
     "name": "stdout",
     "output_type": "stream",
     "text": [
      "Duplicate Records: 0\n"
     ]
    }
   ],
   "source": [
    "duplicates = df.duplicated().sum()\n",
    "print(\"Duplicate Records:\", duplicates)"
   ]
  },
  {
   "cell_type": "markdown",
   "id": "23a6028b-40c5-4029-b0cd-9ad827311d9c",
   "metadata": {},
   "source": [
    "# 6.How can we convert incorrect data types (e.g., date columns to datetime, categorical columns to category)?"
   ]
  },
  {
   "cell_type": "code",
   "execution_count": 33,
   "id": "6291ec47-7053-4314-b6be-b68441ecfa15",
   "metadata": {},
   "outputs": [
    {
     "data": {
      "text/plain": [
       "Index(['Department', 'Department_Name', 'Division', 'Gender', 'Base_Salary',\n",
       "       'Overtime_Pay', 'Longevity_Pay', 'Grade'],\n",
       "      dtype='object')"
      ]
     },
     "execution_count": 33,
     "metadata": {},
     "output_type": "execute_result"
    }
   ],
   "source": [
    "df.columns"
   ]
  },
  {
   "cell_type": "code",
   "execution_count": 34,
   "id": "7bb6c241-d9ac-4cd7-8762-c0e2b42b7db6",
   "metadata": {},
   "outputs": [
    {
     "name": "stderr",
     "output_type": "stream",
     "text": [
      "C:\\Users\\HP\\AppData\\Local\\Temp\\ipykernel_12728\\2066430132.py:2: UserWarning: Could not infer format, so each element will be parsed individually, falling back to `dateutil`. To ensure parsing is consistent and as-expected, please specify a format.\n",
      "  df['Department'] = pd.to_datetime(df['Department'], errors='coerce')\n"
     ]
    }
   ],
   "source": [
    "if 'Department' in df.columns:\n",
    "    df['Department'] = pd.to_datetime(df['Department'], errors='coerce')"
   ]
  },
  {
   "cell_type": "markdown",
   "id": "fa550ba6-408e-4410-87ac-9d843642af53",
   "metadata": {},
   "source": [
    "# 7.How can we normalize numerical variables (e.g., scaling salary data to a range between 0 and 1)?"
   ]
  },
  {
   "cell_type": "code",
   "execution_count": 36,
   "id": "a072b7a9-a556-40bc-9fca-b446510f5f33",
   "metadata": {},
   "outputs": [],
   "source": [
    "if 'Base_Salary' in df.columns:\n",
    "    df['Base_Salary'] = (df['Base_Salary'] - df['Base_Salary'].min()) / (df['Base_Salary'].max() - df['Base_Salary'].min())"
   ]
  },
  {
   "cell_type": "code",
   "execution_count": 37,
   "id": "4726db3e-9e27-43eb-bc01-7afd4205b163",
   "metadata": {},
   "outputs": [
    {
     "data": {
      "text/plain": [
       "0        0.586520\n",
       "1        0.478778\n",
       "2        0.448003\n",
       "3        0.278742\n",
       "4        0.241407\n",
       "           ...   \n",
       "10285    0.525737\n",
       "10287    0.725949\n",
       "10288    0.260700\n",
       "10289    0.310058\n",
       "10290    0.594009\n",
       "Name: Base_Salary, Length: 9674, dtype: float64"
      ]
     },
     "execution_count": 37,
     "metadata": {},
     "output_type": "execute_result"
    }
   ],
   "source": [
    "df['Base_Salary']"
   ]
  },
  {
   "cell_type": "markdown",
   "id": "970350e6-fafc-453e-9853-f8b52d5d2cfb",
   "metadata": {},
   "source": [
    "# 8.Are there any outliers in the salary column, and how can we handle them?"
   ]
  },
  {
   "cell_type": "code",
   "execution_count": 39,
   "id": "0340c7aa-c986-4477-9a57-f93fde0f0fd8",
   "metadata": {},
   "outputs": [
    {
     "name": "stdout",
     "output_type": "stream",
     "text": [
      "Outliers in Salary: 253\n"
     ]
    }
   ],
   "source": [
    "Q1 = df['Base_Salary'].quantile(0.25)\n",
    "Q3 = df['Base_Salary'].quantile(0.75)\n",
    "IQR = Q3 - Q1\n",
    "outliers = df[(df['Base_Salary'] < (Q1 - 1.5 * IQR)) | (df['Base_Salary'] > (Q3 + 1.5 * IQR))]\n",
    "print(\"Outliers in Salary:\", outliers.shape[0])"
   ]
  },
  {
   "cell_type": "code",
   "execution_count": 40,
   "id": "7c0f02e6-98b4-46d5-aa93-f605a3496bea",
   "metadata": {},
   "outputs": [],
   "source": [
    "df = df[~df['Base_Salary'].between(Q1 - 1.5 * IQR, Q3 + 1.5 * IQR)] # removing outliers"
   ]
  },
  {
   "cell_type": "code",
   "execution_count": 41,
   "id": "e15cb9ba-7fe4-4141-b4c0-3f91c5fd3c00",
   "metadata": {},
   "outputs": [
    {
     "name": "stdout",
     "output_type": "stream",
     "text": [
      "Outliers in Salary: 19\n"
     ]
    }
   ],
   "source": [
    "Q1 = df['Base_Salary'].quantile(0.25)\n",
    "Q3 = df['Base_Salary'].quantile(0.75)\n",
    "IQR = Q3 - Q1\n",
    "outliers = df[(df['Base_Salary'] < (Q1 - 1.5 * IQR)) | (df['Base_Salary'] > (Q3 + 1.5 * IQR))]\n",
    "print(\"Outliers in Salary:\", outliers.shape[0])"
   ]
  },
  {
   "cell_type": "markdown",
   "id": "a0766cfd-bc97-4c82-ad6a-94e6423fc0ce",
   "metadata": {},
   "source": [
    "# 9.How can we make column names lowercase and remove spaces for consistency?"
   ]
  },
  {
   "cell_type": "code",
   "execution_count": 43,
   "id": "53663ce9-0418-4e8d-9ac2-3996bd90d068",
   "metadata": {},
   "outputs": [
    {
     "data": {
      "text/plain": [
       "Index(['Department', 'Department_Name', 'Division', 'Gender', 'Base_Salary',\n",
       "       'Overtime_Pay', 'Longevity_Pay', 'Grade'],\n",
       "      dtype='object')"
      ]
     },
     "execution_count": 43,
     "metadata": {},
     "output_type": "execute_result"
    }
   ],
   "source": [
    "df.columns"
   ]
  },
  {
   "cell_type": "code",
   "execution_count": 44,
   "id": "1dc040b2-8cef-4675-97da-33c24b9fe505",
   "metadata": {},
   "outputs": [],
   "source": [
    "df.columns = df.columns.str.lower().str.replace(' ', '_')"
   ]
  },
  {
   "cell_type": "code",
   "execution_count": 45,
   "id": "0b5fe97a-e150-45a5-9a95-8b41c0f0f766",
   "metadata": {},
   "outputs": [
    {
     "data": {
      "text/plain": [
       "Index(['department', 'department_name', 'division', 'gender', 'base_salary',\n",
       "       'overtime_pay', 'longevity_pay', 'grade'],\n",
       "      dtype='object')"
      ]
     },
     "execution_count": 45,
     "metadata": {},
     "output_type": "execute_result"
    }
   ],
   "source": [
    "df.columns"
   ]
  },
  {
   "cell_type": "markdown",
   "id": "560a4784-f86c-412b-8280-cd9e8c048eaf",
   "metadata": {},
   "source": [
    "# 10.How can we detect and remove outliers in numerical columns (e.g., salary or age)?"
   ]
  },
  {
   "cell_type": "code",
   "execution_count": 47,
   "id": "0a01d550-bdf5-410c-993b-c634aa549ead",
   "metadata": {},
   "outputs": [
    {
     "name": "stdout",
     "output_type": "stream",
     "text": [
      "Outliers in Salary: 253\n"
     ]
    }
   ],
   "source": [
    "for col in ['salary']:\n",
    "    if col in df.columns:\n",
    "        Q1 = df[col].quantile(0.25)\n",
    "        Q3 = df[col].quantile(0.75)\n",
    "        IQR = Q3 - Q1\n",
    "        df = df[df[col].between(Q1 - 1.5 * IQR, Q3 + 1.5 * IQR)]\n",
    "print(\"Outliers in Salary:\", df.shape[0])"
   ]
  },
  {
   "cell_type": "markdown",
   "id": "34a3673e-b389-41ec-8944-0ec6ff8d360e",
   "metadata": {},
   "source": [
    "# 11.How can we visualize relationships between variables using Seaborn (e.g., salary distribution, gender ratio)?"
   ]
  },
  {
   "cell_type": "code",
   "execution_count": 49,
   "id": "18a38954-4dbb-422b-a54c-cef80a092f73",
   "metadata": {},
   "outputs": [],
   "source": [
    "import seaborn as sns\n",
    "import matplotlib.pyplot as plt"
   ]
  },
  {
   "cell_type": "code",
   "execution_count": 50,
   "id": "6496b023-2d03-45a7-b981-50be8ffec155",
   "metadata": {},
   "outputs": [
    {
     "data": {
      "image/png": "[encoded data removed]",
      "text/plain": [
       "<Figure size 640x480 with 1 Axes>"
      ]
     },
     "metadata": {},
     "output_type": "display_data"
    },
    {
     "data": {
      "image/png": "[encoded data removed]",
      "text/plain": [
       "<Figure size 640x480 with 1 Axes>"
      ]
     },
     "metadata": {},
     "output_type": "display_data"
    },
    {
     "name": "stdout",
     "output_type": "stream",
     "text": [
      "Data Processing Completed!\n"
     ]
    }
   ],
   "source": [
    "sns.histplot(df['base_salary'], bins=30, kde=True)\n",
    "plt.title(\"Salary Distribution\")\n",
    "plt.show()\n",
    "\n",
    "if 'gender' in df.columns:\n",
    "    sns.countplot(x='gender', data=df)\n",
    "    plt.title(\"Gender Ratio\")\n",
    "    plt.show()\n",
    "\n",
    "print(\"Data Processing Completed!\")\n"
   ]
  },
  {
   "cell_type": "markdown",
   "id": "45b3e987-91a1-48c1-9b7d-c08739b5c561",
   "metadata": {},
   "source": [
    "# 12.How can we calculate the average salary for each department?"
   ]
  },
  {
   "cell_type": "code",
   "execution_count": 52,
   "id": "ccff295d-313a-40ef-aef2-c789aad7c54a",
   "metadata": {},
   "outputs": [],
   "source": [
    "import numpy as np"
   ]
  },
  {
   "cell_type": "code",
   "execution_count": 53,
   "id": "46d625d5-819f-42cf-8ccd-816d4d02718f",
   "metadata": {},
   "outputs": [
    {
     "name": "stdout",
     "output_type": "stream",
     "text": [
      "Average Salary by Department:\n",
      " Series([], Name: base_salary, dtype: float64)\n"
     ]
    }
   ],
   "source": [
    "if 'department' in df.columns:\n",
    "    avg_salary_by_dept = df.groupby('department')['base_salary'].mean()\n",
    "    print(\"Average Salary by Department:\\n\", avg_salary_by_dept)"
   ]
  },
  {
   "cell_type": "code",
   "execution_count": null,
   "id": "b6f62360-1669-4170-a953-33887fd3cc2e",
   "metadata": {},
   "outputs": [],
   "source": []
  }
 ],
 "metadata": {
  "kernelspec": {
   "display_name": "Python [conda env:base] *",
   "language": "python",
   "name": "conda-base-py"
  },
  "language_info": {
   "codemirror_mode": {
    "name": "ipython",
    "version": 3
   },
   "file_extension": ".py",
   "mimetype": "text/x-python",
   "name": "python",
   "nbconvert_exporter": "python",
   "pygments_lexer": "ipython3",
   "version": "3.12.7"
  }
 },
 "nbformat": 4,
 "nbformat_minor": 5
}

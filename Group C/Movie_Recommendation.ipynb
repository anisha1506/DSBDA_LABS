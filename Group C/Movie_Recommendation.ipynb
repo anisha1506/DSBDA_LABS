{
 "cells": [
  {
   "cell_type": "code",
   "execution_count": 2,
   "id": "e8d47c70-0630-4d18-a769-6bed888fcc0d",
   "metadata": {},
   "outputs": [],
   "source": [
    "import pandas as pd\n",
    "from sklearn.feature_extraction.text import TfidfVectorizer\n",
    "from sklearn.metrics.pairwise import cosine_similarity"
   ]
  },
  {
   "cell_type": "code",
   "execution_count": 6,
   "id": "64867a89-07ae-4bda-bcd8-e008659cf087",
   "metadata": {},
   "outputs": [],
   "source": [
    "data = pd.read_csv(\"movie_dataset.csv\")\n",
    "selected_features = ['title','genres', 'keywords', 'tagline', 'overview']"
   ]
  },
  {
   "cell_type": "code",
   "execution_count": 8,
   "id": "2c1a3514-4755-47d5-8245-fe0559ce9b7c",
   "metadata": {},
   "outputs": [],
   "source": [
    "for feature in selected_features:\n",
    "    data[feature] = data[feature].fillna('')"
   ]
  },
  {
   "cell_type": "code",
   "execution_count": 10,
   "id": "0fca8a2d-7732-463b-bb5f-0ce6ce9c3c66",
   "metadata": {},
   "outputs": [],
   "source": [
    "data['combined_features'] = (\n",
    "    data['genres'] + ' ' +\n",
    "    data['keywords'] + ' ' +\n",
    "    data['tagline'] + ' ' +\n",
    "    data['overview']\n",
    ")"
   ]
  },
  {
   "cell_type": "code",
   "execution_count": 12,
   "id": "7551cb53-1a43-4cf9-8b9e-7986de48f600",
   "metadata": {},
   "outputs": [],
   "source": [
    "vectorizer = TfidfVectorizer(stop_words='english')\n",
    "feature_vectors = vectorizer.fit_transform(data['combined_features'])"
   ]
  },
  {
   "cell_type": "code",
   "execution_count": 14,
   "id": "22b468fb-fc85-4e73-9755-fb223dd54a86",
   "metadata": {},
   "outputs": [],
   "source": [
    "similarity = cosine_similarity(feature_vectors)"
   ]
  },
  {
   "cell_type": "code",
   "execution_count": 16,
   "id": "310e92da-a20a-4142-927a-0e687d5be018",
   "metadata": {},
   "outputs": [],
   "source": [
    "def recommend(movie_name):\n",
    "    movie_name = movie_name.lower()\n",
    "    if movie_name not in data['title'].str.lower().values:\n",
    "        return \"Movie not found in database.\"\n",
    "        \n",
    "    index = data[data['title'].str.lower() == movie_name].index[0]\n",
    "    similarity_scores = list(enumerate(similarity[index]))\n",
    "    sorted_scores = sorted(similarity_scores, key=lambda x: x[1], reverse=True)\n",
    "\n",
    "    print(f\"\\nTop 10 movies similar to: {data.iloc[index]['title']}\\n\")\n",
    "    for i in sorted_scores[1:11]:\n",
    "        print(data.iloc[i[0]]['title'])"
   ]
  },
  {
   "cell_type": "code",
   "execution_count": 18,
   "id": "18993bfc-a5fa-4475-8792-436a13317cef",
   "metadata": {},
   "outputs": [
    {
     "name": "stdout",
     "output_type": "stream",
     "text": [
      "\n",
      "Top 10 movies similar to: Avatar\n",
      "\n",
      "Lifeforce\n",
      "Moonraker\n",
      "Gattaca\n",
      "Trekkies\n",
      "Apollo 18\n",
      "The Inhabited Island\n",
      "Cargo\n",
      "Gravity\n",
      "Lockout\n",
      "Space Pirate Captain Harlock\n"
     ]
    }
   ],
   "source": [
    "recommend(\"Avatar\")"
   ]
  },
  {
   "cell_type": "code",
   "execution_count": null,
   "id": "f6c16977-1aeb-4ba8-b7f6-ab5abd1d2394",
   "metadata": {},
   "outputs": [],
   "source": []
  }
 ],
 "metadata": {
  "kernelspec": {
   "display_name": "Python 3 (ipykernel)",
   "language": "python",
   "name": "python3"
  },
  "language_info": {
   "codemirror_mode": {
    "name": "ipython",
    "version": 3
   },
   "file_extension": ".py",
   "mimetype": "text/x-python",
   "name": "python",
   "nbconvert_exporter": "python",
   "pygments_lexer": "ipython3",
   "version": "3.12.7"
  }
 },
 "nbformat": 4,
 "nbformat_minor": 5
}
